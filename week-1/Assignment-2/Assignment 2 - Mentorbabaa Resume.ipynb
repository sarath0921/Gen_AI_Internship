{
 "cells": [
  {
   "cell_type": "code",
   "execution_count": null,
   "id": "62d003d0",
   "metadata": {},
   "outputs": [],
   "source": [
    "import pandas as pd\n",
    "import numpy as np\n",
    "import torch"
   ]
  },
  {
   "cell_type": "markdown",
   "id": "693c4050",
   "metadata": {},
   "source": [
    "### Objective:\n",
    "Build a classification model that predicts whether a given resume matches a job description, using text processing, embeddings, and machine learning techniques. This project is highly relevant for HR-AI applications, helping automate and improve candidate screening."
   ]
  },
  {
   "cell_type": "code",
   "execution_count": 2,
   "id": "3d5b4d08",
   "metadata": {},
   "outputs": [
    {
     "name": "stdout",
     "output_type": "stream",
     "text": [
      "<class 'pandas.core.frame.DataFrame'>\n",
      "RangeIndex: 12 entries, 0 to 11\n",
      "Data columns (total 3 columns):\n",
      " #   Column  Non-Null Count  Dtype \n",
      "---  ------  --------------  ----- \n",
      " 0   JD      12 non-null     object\n",
      " 1   Resume  12 non-null     object\n",
      " 2   Label   12 non-null     int64 \n",
      "dtypes: int64(1), object(2)\n",
      "memory usage: 416.0+ bytes\n"
     ]
    }
   ],
   "source": [
    "df = pd.read_csv('resume_job_matching.csv')\n",
    "df.info()"
   ]
  },
  {
   "cell_type": "code",
   "execution_count": 3,
   "id": "59e74c44",
   "metadata": {},
   "outputs": [
    {
     "data": {
      "text/html": [
       "<div>\n",
       "<style scoped>\n",
       "    .dataframe tbody tr th:only-of-type {\n",
       "        vertical-align: middle;\n",
       "    }\n",
       "\n",
       "    .dataframe tbody tr th {\n",
       "        vertical-align: top;\n",
       "    }\n",
       "\n",
       "    .dataframe thead th {\n",
       "        text-align: right;\n",
       "    }\n",
       "</style>\n",
       "<table border=\"1\" class=\"dataframe\">\n",
       "  <thead>\n",
       "    <tr style=\"text-align: right;\">\n",
       "      <th></th>\n",
       "      <th>JD</th>\n",
       "      <th>Resume</th>\n",
       "      <th>Label</th>\n",
       "    </tr>\n",
       "  </thead>\n",
       "  <tbody>\n",
       "    <tr>\n",
       "      <th>0</th>\n",
       "      <td>Looking for a Python developer with experience...</td>\n",
       "      <td>Experienced Python engineer skilled in ML, clo...</td>\n",
       "      <td>1</td>\n",
       "    </tr>\n",
       "    <tr>\n",
       "      <th>1</th>\n",
       "      <td>Seeking a data analyst skilled in SQL, Tableau...</td>\n",
       "      <td>Data scientist with Tableau knowledge, SQL exp...</td>\n",
       "      <td>1</td>\n",
       "    </tr>\n",
       "    <tr>\n",
       "      <th>2</th>\n",
       "      <td>Hiring Android developer with Java and Kotlin ...</td>\n",
       "      <td>Android programmer with Java and Swift expertise.</td>\n",
       "      <td>0</td>\n",
       "    </tr>\n",
       "    <tr>\n",
       "      <th>3</th>\n",
       "      <td>Need a content writer familiar with SEO and Wo...</td>\n",
       "      <td>Copywriter experienced in articles, SEO optimi...</td>\n",
       "      <td>1</td>\n",
       "    </tr>\n",
       "    <tr>\n",
       "      <th>4</th>\n",
       "      <td>Looking for a React.js frontend developer.</td>\n",
       "      <td>Frontend developer skilled in Angular and Vue.js.</td>\n",
       "      <td>0</td>\n",
       "    </tr>\n",
       "  </tbody>\n",
       "</table>\n",
       "</div>"
      ],
      "text/plain": [
       "                                                  JD  \\\n",
       "0  Looking for a Python developer with experience...   \n",
       "1  Seeking a data analyst skilled in SQL, Tableau...   \n",
       "2  Hiring Android developer with Java and Kotlin ...   \n",
       "3  Need a content writer familiar with SEO and Wo...   \n",
       "4         Looking for a React.js frontend developer.   \n",
       "\n",
       "                                              Resume  Label  \n",
       "0  Experienced Python engineer skilled in ML, clo...      1  \n",
       "1  Data scientist with Tableau knowledge, SQL exp...      1  \n",
       "2  Android programmer with Java and Swift expertise.      0  \n",
       "3  Copywriter experienced in articles, SEO optimi...      1  \n",
       "4  Frontend developer skilled in Angular and Vue.js.      0  "
      ]
     },
     "execution_count": 3,
     "metadata": {},
     "output_type": "execute_result"
    }
   ],
   "source": [
    "df.head()"
   ]
  },
  {
   "cell_type": "code",
   "execution_count": 25,
   "id": "ebbb69bd",
   "metadata": {},
   "outputs": [],
   "source": [
    "import pandas as pd\n",
    "import re\n",
    "from sklearn.feature_extraction.text import TfidfVectorizer\n",
    "\n",
    "# Load your CSV\n",
    "df = pd.read_csv('resume_job_matching.csv')\n",
    "\n",
    "# Basic cleaning function\n",
    "def clean_text(text):\n",
    "    text = str(text).lower()  # Lowercase\n",
    "    text = re.sub(r'[^a-z0-9\\s]', '', text)  # Remove punctuation/special chars\n",
    "    return text\n",
    "\n",
    "# Apply cleaning to both columns\n",
    "df['JD_clean'] = df['JD'].apply(clean_text)\n",
    "df['Resume_clean'] = df['Resume'].apply(clean_text)\n",
    "\n"
   ]
  },
  {
   "cell_type": "code",
   "execution_count": 26,
   "id": "e3932284",
   "metadata": {},
   "outputs": [],
   "source": [
    "tfidf = TfidfVectorizer()\n",
    "# Combine JD and Resume for vectorization (optional, can be separate too)\n",
    "combined_text = df['JD_clean'] + ' ' + df['Resume_clean']\n",
    "features = tfidf.fit_transform(combined_text)\n"
   ]
  },
  {
   "cell_type": "code",
   "execution_count": 22,
   "id": "d8f14789",
   "metadata": {},
   "outputs": [],
   "source": [
    "from sklearn.feature_extraction.text import CountVectorizer\n",
    "vectorizer = CountVectorizer()\n",
    "features = vectorizer.fit_transform(combined_text)\n"
   ]
  },
  {
   "cell_type": "code",
   "execution_count": 28,
   "id": "ffc1a9fa",
   "metadata": {},
   "outputs": [
    {
     "name": "stdout",
     "output_type": "stream",
     "text": [
      "Accuracy: 0.75\n",
      "Precision: 0.75\n",
      "Recall: 1.0\n",
      "F1 Score: 0.8571428571428571\n"
     ]
    }
   ],
   "source": [
    "import pandas as pd\n",
    "from sklearn.model_selection import train_test_split\n",
    "from sklearn.linear_model import LogisticRegression\n",
    "from sklearn.metrics import accuracy_score, precision_score, recall_score, f1_score\n",
    "\n",
    "\n",
    "\n",
    "\n",
    "X = tfidf.fit_transform(combined_text)\n",
    "y = df['Label']\n",
    "\n",
    "# 3. Train/test split\n",
    "X_train, X_test, y_train, y_test = train_test_split(\n",
    "    X, y, test_size=0.3, random_state=42, stratify=y\n",
    ")\n",
    "\n",
    "# 4. Model training\n",
    "model = LogisticRegression(max_iter=1000)\n",
    "model.fit(X_train, y_train)\n",
    "\n",
    "# 5. Evaluation\n",
    "y_pred = model.predict(X_test)\n",
    "print(\"Accuracy:\", accuracy_score(y_test, y_pred))\n",
    "print(\"Precision:\", precision_score(y_test, y_pred))\n",
    "print(\"Recall:\", recall_score(y_test, y_pred))\n",
    "print(\"F1 Score:\", f1_score(y_test, y_pred))\n"
   ]
  },
  {
   "cell_type": "markdown",
   "id": "14c40dfc",
   "metadata": {},
   "source": [
    "## Testing with new samples"
   ]
  },
  {
   "cell_type": "code",
   "execution_count": 37,
   "id": "eb1f2fca",
   "metadata": {},
   "outputs": [
    {
     "name": "stdout",
     "output_type": "stream",
     "text": [
      "Sample 1: Match\n",
      "Sample 2: Match\n"
     ]
    }
   ],
   "source": [
    "# New test samples\n",
    "new_samples = [\n",
    "    {\n",
    "        \"JD\": \"Hiring a full-stack developer proficient in React and Node.js.\",\n",
    "        \"Resume\": \"Full-stack engineer with 3 years of React, Node.js, and MongoDB experience.\"\n",
    "    },\n",
    "    {\n",
    "        \"JD\": \"Looking for a project manager with PMP certification and Agile experience.\",\n",
    "        \"Resume\": \"Software developer experienced in Java and Python; no formal project management training.\"\n",
    "    }\n",
    "]\n",
    "\n",
    "# Preprocess and vectorize\n",
    "def prepare_text(jd, resume):\n",
    "    text = f\"{jd} {resume}\".lower()\n",
    "    text = re.sub(r'[^a-z0-9\\s]', '', text)\n",
    "    # (Optional) stopword removal if applied in training\n",
    "    return text\n",
    "\n",
    "texts = [prepare_text(s['JD'], s['Resume']) for s in new_samples]\n",
    "X_new = tfidf.transform(texts)\n",
    "\n",
    "# Predict\n",
    "predictions = model.predict(X_new)\n",
    "for i, pred in enumerate(predictions):\n",
    "    label = \"Match\" if pred == 1 else \"No Match\"\n",
    "    print(f\"Sample {i+1}: {label}\")\n"
   ]
  },
  {
   "cell_type": "code",
   "execution_count": 38,
   "id": "bf6a93df",
   "metadata": {},
   "outputs": [
    {
     "name": "stdout",
     "output_type": "stream",
     "text": [
      "Sample 1 match probability: 0.61\n",
      "Sample 2 match probability: 0.62\n"
     ]
    }
   ],
   "source": [
    "probs = model.predict_proba(X_new)[:,1]  # probability of “Match”\n",
    "for i, p in enumerate(probs):\n",
    "    print(f\"Sample {i+1} match probability: {p:.2f}\")\n"
   ]
  },
  {
   "cell_type": "code",
   "execution_count": 39,
   "id": "fffa6d3f",
   "metadata": {},
   "outputs": [],
   "source": [
    "new_samples2=[{\"JD\": \"Seeking a cybersecurity specialist with expertise in network security and penetration testing.\",\n",
    "\"Resume\": \"Information security analyst skilled in network defense, vulnerability assessment, and ethical hacking.\"\n",
    "}]"
   ]
  },
  {
   "cell_type": "code",
   "execution_count": 40,
   "id": "6ab9d5ef",
   "metadata": {},
   "outputs": [
    {
     "name": "stdout",
     "output_type": "stream",
     "text": [
      "Sample 1: Match\n"
     ]
    }
   ],
   "source": [
    "def prepare_text(jd, resume):\n",
    "    text = f\"{jd} {resume}\".lower()\n",
    "    text = re.sub(r'[^a-z0-9\\s]', '', text)\n",
    "    # (Optional) stopword removal if applied in training\n",
    "    return text\n",
    "\n",
    "texts = [prepare_text(s['JD'], s['Resume']) for s in new_samples2]\n",
    "X_new = tfidf.transform(texts)\n",
    "\n",
    "# Predict\n",
    "predictions = model.predict(X_new)\n",
    "for i, pred in enumerate(predictions):\n",
    "    label = \"Match\" if pred == 1 else \"No Match\"\n",
    "    print(f\"Sample {i+1}: {label}\")"
   ]
  }
 ],
 "metadata": {
  "kernelspec": {
   "display_name": "Python 3",
   "language": "python",
   "name": "python3"
  },
  "language_info": {
   "codemirror_mode": {
    "name": "ipython",
    "version": 3
   },
   "file_extension": ".py",
   "mimetype": "text/x-python",
   "name": "python",
   "nbconvert_exporter": "python",
   "pygments_lexer": "ipython3",
   "version": "3.11.0"
  }
 },
 "nbformat": 4,
 "nbformat_minor": 5
}
