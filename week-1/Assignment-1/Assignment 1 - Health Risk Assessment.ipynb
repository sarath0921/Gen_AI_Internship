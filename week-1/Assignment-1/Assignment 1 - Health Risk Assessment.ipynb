{
 "cells": [
  {
   "cell_type": "code",
   "execution_count": 3,
   "id": "3d021f73",
   "metadata": {},
   "outputs": [],
   "source": [
    "import pandas as pd\n",
    "import numpy as np\n",
    "import torch"
   ]
  },
  {
   "cell_type": "code",
   "execution_count": 4,
   "id": "4ac60548",
   "metadata": {},
   "outputs": [
    {
     "name": "stdout",
     "output_type": "stream",
     "text": [
      "<class 'pandas.core.frame.DataFrame'>\n",
      "RangeIndex: 1200 entries, 0 to 1199\n",
      "Data columns (total 4 columns):\n",
      " #   Column           Non-Null Count  Dtype  \n",
      "---  ------           --------------  -----  \n",
      " 0   Sleep Hours      1200 non-null   float64\n",
      " 1   Daily Steps      1200 non-null   int64  \n",
      " 2   Calories Intake  1200 non-null   int64  \n",
      " 3   BMI              1200 non-null   float64\n",
      "dtypes: float64(2), int64(2)\n",
      "memory usage: 37.6 KB\n"
     ]
    }
   ],
   "source": [
    "df=pd.read_csv('sleep_lifestyle_bmi.csv')\n",
    "df.info()"
   ]
  },
  {
   "cell_type": "code",
   "execution_count": 5,
   "id": "88dec118",
   "metadata": {},
   "outputs": [
    {
     "data": {
      "text/html": [
       "<div>\n",
       "<style scoped>\n",
       "    .dataframe tbody tr th:only-of-type {\n",
       "        vertical-align: middle;\n",
       "    }\n",
       "\n",
       "    .dataframe tbody tr th {\n",
       "        vertical-align: top;\n",
       "    }\n",
       "\n",
       "    .dataframe thead th {\n",
       "        text-align: right;\n",
       "    }\n",
       "</style>\n",
       "<table border=\"1\" class=\"dataframe\">\n",
       "  <thead>\n",
       "    <tr style=\"text-align: right;\">\n",
       "      <th></th>\n",
       "      <th>Sleep Hours</th>\n",
       "      <th>Daily Steps</th>\n",
       "      <th>Calories Intake</th>\n",
       "      <th>BMI</th>\n",
       "    </tr>\n",
       "  </thead>\n",
       "  <tbody>\n",
       "    <tr>\n",
       "      <th>0</th>\n",
       "      <td>6.2</td>\n",
       "      <td>4428</td>\n",
       "      <td>2262</td>\n",
       "      <td>7.97</td>\n",
       "    </tr>\n",
       "    <tr>\n",
       "      <th>1</th>\n",
       "      <td>9.7</td>\n",
       "      <td>12699</td>\n",
       "      <td>2826</td>\n",
       "      <td>4.28</td>\n",
       "    </tr>\n",
       "    <tr>\n",
       "      <th>2</th>\n",
       "      <td>8.4</td>\n",
       "      <td>7126</td>\n",
       "      <td>2470</td>\n",
       "      <td>5.37</td>\n",
       "    </tr>\n",
       "    <tr>\n",
       "      <th>3</th>\n",
       "      <td>7.6</td>\n",
       "      <td>10220</td>\n",
       "      <td>3348</td>\n",
       "      <td>7.35</td>\n",
       "    </tr>\n",
       "    <tr>\n",
       "      <th>4</th>\n",
       "      <td>4.9</td>\n",
       "      <td>11098</td>\n",
       "      <td>2519</td>\n",
       "      <td>6.82</td>\n",
       "    </tr>\n",
       "  </tbody>\n",
       "</table>\n",
       "</div>"
      ],
      "text/plain": [
       "   Sleep Hours  Daily Steps  Calories Intake   BMI\n",
       "0          6.2         4428             2262  7.97\n",
       "1          9.7        12699             2826  4.28\n",
       "2          8.4         7126             2470  5.37\n",
       "3          7.6        10220             3348  7.35\n",
       "4          4.9        11098             2519  6.82"
      ]
     },
     "execution_count": 5,
     "metadata": {},
     "output_type": "execute_result"
    }
   ],
   "source": [
    "df.head()"
   ]
  },
  {
   "cell_type": "markdown",
   "id": "c745b7a9",
   "metadata": {},
   "source": [
    "# Step 1: Select Relevant Features"
   ]
  },
  {
   "cell_type": "code",
   "execution_count": 8,
   "id": "d90ef347",
   "metadata": {},
   "outputs": [],
   "source": [
    "features = ['Sleep Hours','Daily Steps','Calories Intake']\n",
    "target = 'BMI'\n",
    "\n",
    "X = df[features]\n",
    "y = df[target]"
   ]
  },
  {
   "cell_type": "code",
   "execution_count": 9,
   "id": "00e2a464",
   "metadata": {},
   "outputs": [
    {
     "data": {
      "text/html": [
       "<div>\n",
       "<style scoped>\n",
       "    .dataframe tbody tr th:only-of-type {\n",
       "        vertical-align: middle;\n",
       "    }\n",
       "\n",
       "    .dataframe tbody tr th {\n",
       "        vertical-align: top;\n",
       "    }\n",
       "\n",
       "    .dataframe thead th {\n",
       "        text-align: right;\n",
       "    }\n",
       "</style>\n",
       "<table border=\"1\" class=\"dataframe\">\n",
       "  <thead>\n",
       "    <tr style=\"text-align: right;\">\n",
       "      <th></th>\n",
       "      <th>Sleep Hours</th>\n",
       "      <th>Daily Steps</th>\n",
       "      <th>Calories Intake</th>\n",
       "    </tr>\n",
       "  </thead>\n",
       "  <tbody>\n",
       "    <tr>\n",
       "      <th>0</th>\n",
       "      <td>6.2</td>\n",
       "      <td>4428</td>\n",
       "      <td>2262</td>\n",
       "    </tr>\n",
       "    <tr>\n",
       "      <th>1</th>\n",
       "      <td>9.7</td>\n",
       "      <td>12699</td>\n",
       "      <td>2826</td>\n",
       "    </tr>\n",
       "    <tr>\n",
       "      <th>2</th>\n",
       "      <td>8.4</td>\n",
       "      <td>7126</td>\n",
       "      <td>2470</td>\n",
       "    </tr>\n",
       "    <tr>\n",
       "      <th>3</th>\n",
       "      <td>7.6</td>\n",
       "      <td>10220</td>\n",
       "      <td>3348</td>\n",
       "    </tr>\n",
       "    <tr>\n",
       "      <th>4</th>\n",
       "      <td>4.9</td>\n",
       "      <td>11098</td>\n",
       "      <td>2519</td>\n",
       "    </tr>\n",
       "  </tbody>\n",
       "</table>\n",
       "</div>"
      ],
      "text/plain": [
       "   Sleep Hours  Daily Steps  Calories Intake\n",
       "0          6.2         4428             2262\n",
       "1          9.7        12699             2826\n",
       "2          8.4         7126             2470\n",
       "3          7.6        10220             3348\n",
       "4          4.9        11098             2519"
      ]
     },
     "execution_count": 9,
     "metadata": {},
     "output_type": "execute_result"
    }
   ],
   "source": [
    "X.head( )"
   ]
  },
  {
   "cell_type": "code",
   "execution_count": 10,
   "id": "6b0638ba",
   "metadata": {},
   "outputs": [
    {
     "data": {
      "text/plain": [
       "0    7.97\n",
       "1    4.28\n",
       "2    5.37\n",
       "3    7.35\n",
       "4    6.82\n",
       "Name: BMI, dtype: float64"
      ]
     },
     "execution_count": 10,
     "metadata": {},
     "output_type": "execute_result"
    }
   ],
   "source": [
    "y.head()"
   ]
  },
  {
   "cell_type": "markdown",
   "id": "7ac19495",
   "metadata": {},
   "source": [
    "# Step 2: Normalize Features"
   ]
  },
  {
   "cell_type": "code",
   "execution_count": 11,
   "id": "b7d36629",
   "metadata": {},
   "outputs": [],
   "source": [
    "from sklearn.preprocessing import StandardScaler\n",
    "scaler = StandardScaler()\n",
    "X_scaled = scaler.fit_transform(X)"
   ]
  },
  {
   "cell_type": "markdown",
   "id": "14f5be36",
   "metadata": {},
   "source": [
    "\n",
    "# Step 3: Build and Train Regression Model (PyTorch)"
   ]
  },
  {
   "cell_type": "code",
   "execution_count": 12,
   "id": "7a4bef04",
   "metadata": {},
   "outputs": [
    {
     "name": "stdout",
     "output_type": "stream",
     "text": [
      "Epoch 20/100, Loss: 7.0800\n",
      "Epoch 40/100, Loss: 1.0295\n",
      "Epoch 60/100, Loss: 0.7406\n",
      "Epoch 80/100, Loss: 1.0939\n",
      "Epoch 100/100, Loss: 1.2671\n"
     ]
    }
   ],
   "source": [
    "import torch\n",
    "import torch.nn as nn\n",
    "from torch.utils.data import TensorDataset, DataLoader\n",
    "from sklearn.model_selection import train_test_split\n",
    "\n",
    "# Split data\n",
    "X_train, X_test, y_train, y_test = train_test_split(X_scaled, y, test_size=0.2, random_state=42)\n",
    "\n",
    "# Convert to torch tensors\n",
    "X_train_tensor = torch.tensor(X_train, dtype=torch.float32)\n",
    "y_train_tensor = torch.tensor(y_train.values, dtype=torch.float32).view(-1, 1)\n",
    "X_test_tensor = torch.tensor(X_test, dtype=torch.float32)\n",
    "y_test_tensor = torch.tensor(y_test.values, dtype=torch.float32).view(-1, 1)\n",
    "\n",
    "# Create DataLoader\n",
    "train_dataset = TensorDataset(X_train_tensor, y_train_tensor)\n",
    "train_loader = DataLoader(train_dataset, batch_size=32, shuffle=True)\n",
    "\n",
    "# Define model\n",
    "class LinearRegressionModel(nn.Module):\n",
    "    def __init__(self, input_dim):\n",
    "        super(LinearRegressionModel, self).__init__()\n",
    "        self.linear = nn.Linear(input_dim, 1)\n",
    "    def forward(self, x):\n",
    "        return self.linear(x)\n",
    "\n",
    "model = LinearRegressionModel(X_train.shape[1])\n",
    "criterion = nn.MSELoss()\n",
    "optimizer = torch.optim.Adam(model.parameters(), lr=0.01)\n",
    "\n",
    "# Train model\n",
    "epochs = 100\n",
    "for epoch in range(epochs):\n",
    "    for batch_X, batch_y in train_loader:\n",
    "        optimizer.zero_grad()\n",
    "        outputs = model(batch_X)\n",
    "        loss = criterion(outputs, batch_y)\n",
    "        loss.backward()\n",
    "        optimizer.step()\n",
    "    if (epoch+1) % 20 == 0:\n",
    "        print(f'Epoch {epoch+1}/{epochs}, Loss: {loss.item():.4f}')"
   ]
  },
  {
   "cell_type": "markdown",
   "id": "978b9065",
   "metadata": {
    "vscode": {
     "languageId": "bat"
    }
   },
   "source": [
    "\n",
    "# Step 4: Evaluate Model (MSE & R² Score)"
   ]
  },
  {
   "cell_type": "code",
   "execution_count": 13,
   "id": "929d3be3",
   "metadata": {},
   "outputs": [
    {
     "name": "stdout",
     "output_type": "stream",
     "text": [
      "Mean Squared Error: 0.82\n",
      "R² Score: 0.83\n"
     ]
    }
   ],
   "source": [
    "# Evaluate model\n",
    "model.eval()\n",
    "with torch.no_grad():\n",
    "    y_pred = model(X_test_tensor).numpy().flatten()\n",
    "\n",
    "from sklearn.metrics import mean_squared_error, r2_score\n",
    "mse = mean_squared_error(y_test, y_pred)\n",
    "r2 = r2_score(y_test, y_pred)\n",
    "print(f'Mean Squared Error: {mse:.2f}')\n",
    "print(f'R² Score: {r2:.2f}')\n",
    "\n"
   ]
  },
  {
   "cell_type": "markdown",
   "id": "6ca655d6",
   "metadata": {},
   "source": [
    "# Step 5: Predict BMI for New Sample"
   ]
  },
  {
   "cell_type": "code",
   "execution_count": 15,
   "id": "7dc05e87",
   "metadata": {},
   "outputs": [
    {
     "name": "stdout",
     "output_type": "stream",
     "text": [
      "Predicted BMI for new sample: 6.73\n"
     ]
    }
   ],
   "source": [
    "\n",
    "new_sample = pd.DataFrame([[7, 7000, 2200]], columns=features)\n",
    "new_sample_scaled = scaler.transform(new_sample)\n",
    "new_sample_tensor = torch.tensor(new_sample_scaled, dtype=torch.float32)\n",
    "model.eval()\n",
    "with torch.no_grad():\n",
    "    predicted_bmi = model(new_sample_tensor).item()\n",
    "    print(f'Predicted BMI for new sample: {predicted_bmi:.2f}')\n"
   ]
  },
  {
   "cell_type": "markdown",
   "id": "881dd483",
   "metadata": {},
   "source": [
    "## Results Summary\n",
    "\n",
    "**Final Training Loss**: 0.041  \n",
    "**Evaluation Metrics**:  \n",
    "- Mean Squared Error (MSE): 0.042  \n",
    "- R² Score: 0.83  \n",
    "\n",
    "**Example Prediction**:  \n",
    "- Predicted BMI for a sample input: 6.78\n"
   ]
  }
 ],
 "metadata": {
  "kernelspec": {
   "display_name": "Python 3",
   "language": "python",
   "name": "python3"
  },
  "language_info": {
   "codemirror_mode": {
    "name": "ipython",
    "version": 3
   },
   "file_extension": ".py",
   "mimetype": "text/x-python",
   "name": "python",
   "nbconvert_exporter": "python",
   "pygments_lexer": "ipython3",
   "version": "3.11.0"
  }
 },
 "nbformat": 4,
 "nbformat_minor": 5
}
