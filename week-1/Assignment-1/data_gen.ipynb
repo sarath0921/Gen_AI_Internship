{
 "cells": [
  {
   "cell_type": "code",
   "execution_count": 1,
   "id": "36a63122",
   "metadata": {},
   "outputs": [
    {
     "name": "stdout",
     "output_type": "stream",
     "text": [
      "   Sleep Hours  Daily Steps  Calories Intake   BMI\n",
      "0          6.2         4428             2262  7.97\n",
      "1          9.7        12699             2826  4.28\n",
      "2          8.4         7126             2470  5.37\n",
      "3          7.6        10220             3348  7.35\n",
      "4          4.9        11098             2519  6.82\n"
     ]
    }
   ],
   "source": [
    "import pandas as pd\n",
    "import numpy as np\n",
    "\n",
    "# Set random seed for reproducibility\n",
    "np.random.seed(42)\n",
    "\n",
    "# Generate dummy data\n",
    "n_rows = 1200\n",
    "sleep_hours = np.random.uniform(4, 10, n_rows)           # Sleep Hours: 4 to 10\n",
    "daily_steps = np.random.randint(2000, 15000, n_rows)     # Daily Steps: 2,000 to 15,000\n",
    "calories_intake = np.random.randint(1500, 3500, n_rows)  # Calories Intake: 1,500 to 3,500\n",
    "\n",
    "# Simple BMI calculation (for demo purposes)\n",
    "# BMI = (calories_intake / 1000) + (10 - sleep_hours) + (15000 - daily_steps)/5000 + noise\n",
    "noise = np.random.normal(0, 1, n_rows)\n",
    "bmi = (calories_intake / 1000) + (10 - sleep_hours) + (15000 - daily_steps)/5000 + noise\n",
    "\n",
    "# Create DataFrame\n",
    "dummy_df = pd.DataFrame({\n",
    "    'Sleep Hours': np.round(sleep_hours, 1),\n",
    "    'Daily Steps': daily_steps,\n",
    "    'Calories Intake': calories_intake,\n",
    "    'BMI': np.round(bmi, 2)\n",
    "})\n",
    "\n",
    "# Preview\n",
    "print(dummy_df.head())\n",
    "\n",
    "# Save to CSV\n",
    "dummy_df.to_csv('sleep_lifestyle_bmi.csv', index=False)"
   ]
  }
 ],
 "metadata": {
  "kernelspec": {
   "display_name": "Python 3",
   "language": "python",
   "name": "python3"
  },
  "language_info": {
   "codemirror_mode": {
    "name": "ipython",
    "version": 3
   },
   "file_extension": ".py",
   "mimetype": "text/x-python",
   "name": "python",
   "nbconvert_exporter": "python",
   "pygments_lexer": "ipython3",
   "version": "3.11.0"
  }
 },
 "nbformat": 4,
 "nbformat_minor": 5
}
